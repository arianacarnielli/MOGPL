{
 "cells": [
  {
   "cell_type": "markdown",
   "metadata": {},
   "source": [
    "@author: Ariana CARNIELLI et Ivan KACHAIKIN\n",
    "    \n",
    "## Tests pour le projet de MOGPL 2019-2020"
   ]
  },
  {
   "cell_type": "markdown",
   "metadata": {},
   "source": [
    "Ce notebook réalise des tests à l'aide des fonctions du fichier fonctionsTest.py."
   ]
  },
  {
   "cell_type": "code",
   "execution_count": null,
   "metadata": {
    "collapsed": true
   },
   "outputs": [],
   "source": [
    "import numpy as np\n",
    "import matplotlib.pyplot as plt\n",
    "plt.rcParams.update({\"pgf.texsystem\": \"pdflatex\"})\n",
    "\n",
    "from tqdm import tqdm\n",
    "\n",
    "from jeu import JeuSequentiel, JeuSimultane\n",
    "from strategie import StrategieAveugle, StrategieOptimaleSequentielle,\\\n",
    " StrategieAleatoire, StrategieHumaine, StrategieOptimaleSimultaneeTour,\\\n",
    " StrategieOptimaleSimultanee"
   ]
  }
 ],
 "metadata": {
  "kernelspec": {
   "display_name": "Python 3",
   "language": "python",
   "name": "python3"
  },
  "language_info": {
   "codemirror_mode": {
    "name": "ipython",
    "version": 3
   },
   "file_extension": ".py",
   "mimetype": "text/x-python",
   "name": "python",
   "nbconvert_exporter": "python",
   "pygments_lexer": "ipython3",
   "version": "3.6.2"
  }
 },
 "nbformat": 4,
 "nbformat_minor": 2
}
